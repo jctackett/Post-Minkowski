{
 "cells": [
  {
   "cell_type": "code",
   "execution_count": 3,
   "metadata": {},
   "outputs": [
    {
     "data": {
      "text/plain": [
       "Hamiltonian (generic function with 1 method)"
      ]
     },
     "execution_count": 3,
     "metadata": {},
     "output_type": "execute_result"
    }
   ],
   "source": [
    "function Hamiltonian(du, u, p, t)\n",
    "    x1 = u[1]\n",
    "    y1 = u[2]\n",
    "    p1x = u[3]\n",
    "    p1y = u[4]\n",
    "    x2 = u[5]\n",
    "    y2 = u[6]\n",
    "    p2x = u[7]\n",
    "    p2y = u[8]\n",
    "    \n",
    "    m1 = p[1]\n",
    "    m2 = p[2]\n",
    "    G = p[3]\n",
    "\n",
    "\tdifX, difY = x2 - x1, y2 - y1\n",
    "\tr = (((difX ^ 2) + (difY ^ 2)) ^ 1.5)\n",
    "\ttop = G * m1 * m2\n",
    "    \n",
    "\tdu[1], du[2] = p1x / m1, p1y / m1\n",
    "\tdu[3], du[4] = top * difX / r, top * difY / r\n",
    "    \n",
    "\tdu[5], du[6] = p2x / m2, p2y / m2\n",
    "\tdu[7], du[8] = - top * difX / r, - top * difY / r\n",
    "end"
   ]
  },
  {
   "cell_type": "code",
   "execution_count": null,
   "metadata": {},
   "outputs": [],
   "source": [
    "using DifferentialEquations"
   ]
  },
  {
   "cell_type": "code",
   "execution_count": 4,
   "metadata": {},
   "outputs": [
    {
     "data": {
      "text/plain": [
       "12"
      ]
     },
     "execution_count": 4,
     "metadata": {},
     "output_type": "execute_result"
    }
   ],
   "source": [
    "G = 1\n",
    "m1 = 10\n",
    "m2 = 12"
   ]
  },
  {
   "cell_type": "code",
   "execution_count": 5,
   "metadata": {},
   "outputs": [
    {
     "data": {
      "text/plain": [
       "8-element Array{Float64,1}:\n",
       " -5.45\n",
       "  0.0\n",
       "  0.0\n",
       " -8.09\n",
       "  4.55\n",
       "  0.0\n",
       "  0.0\n",
       "  8.09"
      ]
     },
     "execution_count": 5,
     "metadata": {},
     "output_type": "execute_result"
    }
   ],
   "source": [
    "c0 = [m1, m2, G]\n",
    "q01 = [-5.45, 0.0]\n",
    "p01 = [0.0, -8.09]\n",
    "q02 = [4.55, 0.0]\n",
    "p02 = [0.0, 8.09]\n",
    "u0 = collect(Base.Iterators.flatten([q01, p01, q02, p02]))"
   ]
  },
  {
   "cell_type": "code",
   "execution_count": 6,
   "metadata": {},
   "outputs": [
    {
     "data": {
      "text/plain": [
       "(0.0, 25.0)"
      ]
     },
     "execution_count": 6,
     "metadata": {},
     "output_type": "execute_result"
    }
   ],
   "source": [
    "tspan = (0.0, 25.0)"
   ]
  },
  {
   "cell_type": "code",
   "execution_count": null,
   "metadata": {},
   "outputs": [],
   "source": [
    "prob = ODEProblem(Hamiltonian, u0, tspan, c0)"
   ]
  },
  {
   "cell_type": "code",
   "execution_count": null,
   "metadata": {},
   "outputs": [],
   "source": []
  }
 ],
 "metadata": {
  "kernelspec": {
   "display_name": "Julia 1.4.2",
   "language": "julia",
   "name": "julia-1.4"
  },
  "language_info": {
   "file_extension": ".jl",
   "mimetype": "application/julia",
   "name": "julia",
   "version": "1.4.2"
  }
 },
 "nbformat": 4,
 "nbformat_minor": 4
}
